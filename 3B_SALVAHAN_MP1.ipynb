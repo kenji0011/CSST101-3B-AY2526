{
  "cells": [
    {
      "cell_type": "markdown",
      "metadata": {
        "id": "view-in-github",
        "colab_type": "text"
      },
      "source": [
        "<a href=\"https://colab.research.google.com/github/kenji0011/CSST101-3B-AY2526/blob/main/3B_SALVAHAN_MP1.ipynb\" target=\"_parent\"><img src=\"https://colab.research.google.com/assets/colab-badge.svg\" alt=\"Open In Colab\"/></a>"
      ]
    },
    {
      "cell_type": "markdown",
      "metadata": {
        "id": "gfDMd9QzoeVk"
      },
      "source": [
        "Enhanced Mini Expert System: University Logic Rules\n",
        "With CSV Logging for Record-Keeping"
      ]
    },
    {
      "cell_type": "code",
      "execution_count": null,
      "metadata": {
        "collapsed": true,
        "id": "edciTWtjgFCe"
      },
      "outputs": [],
      "source": [
        "# Import needed libraries\n",
        "\n",
        "import csv\n",
        "from datetime import datetime"
      ]
    },
    {
      "cell_type": "markdown",
      "metadata": {
        "id": "DsNE80Ljollj"
      },
      "source": [
        "LOGIC FUNCTIONS"
      ]
    },
    {
      "cell_type": "code",
      "execution_count": null,
      "metadata": {
        "id": "JyJsYAbCooxg"
      },
      "outputs": [],
      "source": [
        "def impl(p, q):\n",
        "    return (not p) or q  # Implication (P -> Q)\n",
        "\n",
        "def tf(b: bool) -> str:\n",
        "    return \"T\" if b else \"F\""
      ]
    },
    {
      "cell_type": "markdown",
      "metadata": {
        "id": "B5mFDm_Ropax"
      },
      "source": [
        "LOGGER"
      ]
    },
    {
      "cell_type": "code",
      "execution_count": null,
      "metadata": {
        "id": "IEvj6J8xor9b"
      },
      "outputs": [],
      "source": [
        "def log_result(student_name, rule_name, result):\n",
        "    with open(\"logic_results.csv\", \"a\", newline=\"\") as file:\n",
        "        writer = csv.writer(file)\n",
        "        writer.writerow([datetime.now().strftime(\"%Y-%m-%d %H:%M:%S\"),\n",
        "                         student_name, rule_name, result])\n"
      ]
    },
    {
      "cell_type": "markdown",
      "metadata": {
        "id": "FjFS9RSFost9"
      },
      "source": [
        "Rule 1: Attendance"
      ]
    },
    {
      "cell_type": "code",
      "execution_count": null,
      "metadata": {
        "id": "cDAkwPWkovLs"
      },
      "outputs": [],
      "source": [
        "def attendance_rule(student_name):\n",
        "    print(\"\\n--- Attendance Rule Checker ---\")\n",
        "    late = input(\"Is the student late? (T/F): \").strip().upper() == \"T\"\n",
        "    excuse = input(\"Did the student bring an excuse letter? (T/F): \").strip().upper() == \"T\"\n",
        "\n",
        "    result = impl(late, excuse)\n",
        "    outcome = \"Satisfied ✅\" if result else \"Violated ❌\"\n",
        "\n",
        "    print(f\"P = ({tf(late)}) (Late), Q = ({tf(excuse)}) (Excuse Letter)\")\n",
        "    print(\"Result:\", outcome)\n",
        "\n",
        "    log_result(student_name, \"Attendance Rule\", outcome)\n"
      ]
    },
    {
      "cell_type": "markdown",
      "metadata": {
        "id": "kNQJ-QF8oxK6"
      },
      "source": [
        "Rule 2: Grading"
      ]
    },
    {
      "cell_type": "code",
      "execution_count": null,
      "metadata": {
        "id": "wdktICrtozfB"
      },
      "outputs": [],
      "source": [
        "def grading_rule(student_name):\n",
        "    print(\"\\n--- Grading Rule Checker ---\")\n",
        "    try:\n",
        "        grade = float(input(\"Enter student grade: \"))\n",
        "    except ValueError:\n",
        "        print(\"Invalid grade input.\")\n",
        "        return\n",
        "\n",
        "    P = True\n",
        "    Q = grade >= 75\n",
        "    result = impl(P, Q)\n",
        "    outcome = \"Satisfied ✅\" if result else \"Violated ❌\"\n",
        "\n",
        "    print(f\"P = ({tf(P)}) (grade ≥ 75), Q = ({tf(Q)}) (student passes)\")\n",
        "    print(\"Result:\", outcome)\n",
        "\n",
        "    log_result(student_name, \"Grading Rule\", outcome)\n"
      ]
    },
    {
      "cell_type": "markdown",
      "metadata": {
        "id": "jHmWrN0Mo1e2"
      },
      "source": [
        "Rule 3: Login System"
      ]
    },
    {
      "cell_type": "code",
      "execution_count": null,
      "metadata": {
        "id": "Jnih6oEio3eD"
      },
      "outputs": [],
      "source": [
        "# ---------- Rule 3: Login System ----------\n",
        "def login_rule(student_name):\n",
        "    print(\"\\n--- Login Rule Checker ---\")\n",
        "    correct_password = \"admin123\"\n",
        "    attempt = input(\"Enter password: \")\n",
        "\n",
        "    P = True\n",
        "    Q = (attempt == correct_password)\n",
        "    result = impl(P, Q)\n",
        "    outcome = \"Access granted ✅\" if result else \"Access denied ❌\"\n",
        "\n",
        "    print(f\"P = ({tf(P)}) (Password Correct), Q = ({tf(Q)}) (Access Granted)\")\n",
        "    print(\"Result:\", outcome)\n",
        "\n",
        "    log_result(student_name, \"Login Rule\", outcome)\n"
      ]
    },
    {
      "cell_type": "markdown",
      "metadata": {
        "id": "mZYMRzkZo47l"
      },
      "source": [
        "Rule 4: Bonus Points"
      ]
    },
    {
      "cell_type": "code",
      "execution_count": null,
      "metadata": {
        "id": "qkVuJzejo65g"
      },
      "outputs": [],
      "source": [
        "def bonus_rule(student_name):\n",
        "    print(\"\\n--- Bonus Points Eligibility Checker ---\")\n",
        "    regular = input(\"Does the student have regular attendance? (T/F): \").strip().upper() == \"T\"\n",
        "    bonus = input(\"Is the student eligible for bonus points? (T/F): \").strip().upper() == \"T\"\n",
        "\n",
        "    result = impl(regular, bonus)\n",
        "    outcome = \"Satisfied ✅\" if result else \"Violated ❌\"\n",
        "\n",
        "    print(f\"P = ({tf(regular)}) (Regular Attendance), Q = ({tf(bonus)}) (Bonus Eligible)\")\n",
        "    print(\"Result:\", outcome)\n",
        "\n",
        "    log_result(student_name, \"Bonus Rule\", outcome)\n"
      ]
    },
    {
      "cell_type": "markdown",
      "metadata": {
        "id": "_OIDyVDRqP1Z"
      },
      "source": [
        "Rule 5: Library Borrowing"
      ]
    },
    {
      "cell_type": "code",
      "execution_count": null,
      "metadata": {
        "id": "SqZfqNteqTba"
      },
      "outputs": [],
      "source": [
        "def library_rule(student_name):\n",
        "    print(\"\\n--- Library Borrowing Rule Checker ---\")\n",
        "    valid_id = input(\"Does the student have a valid ID? (T/F): \").strip().upper() == \"T\"\n",
        "    borrow = input(\"Is the student allowed to borrow books? (T/F): \").strip().upper() == \"T\"\n",
        "\n",
        "    result = impl(valid_id, borrow)\n",
        "    outcome = \"Allowed ✅\" if result else \"Denied ❌\"\n",
        "\n",
        "    print(f\"P = ({tf(valid_id)}) (Valid ID), Q = ({tf(borrow)}) (Borrow Allowed)\")\n",
        "    print(\"Result:\", outcome)\n",
        "\n",
        "    log_result(student_name, \"Library Rule\", outcome)\n"
      ]
    },
    {
      "cell_type": "markdown",
      "metadata": {
        "id": "PZCKeSkco80q"
      },
      "source": [
        "Main Menu"
      ]
    },
    {
      "cell_type": "code",
      "execution_count": null,
      "metadata": {
        "id": "df9bgxXno_CK"
      },
      "outputs": [],
      "source": [
        "def main():\n",
        "    print(\"=== University Logic Rules System ===\")\n",
        "    student_name = input(\"Enter student name: \").strip()\n",
        "\n",
        "    while True:\n",
        "        print(\"\\n================================\")\n",
        "        print(\" Main Menu\")\n",
        "        print(\"================================\")\n",
        "        print(\"1) Attendance Rule Checker\")\n",
        "        print(\"2) Grading Rule Checker\")\n",
        "        print(\"3) Login Rule Checker\")\n",
        "        print(\"4) Bonus Points Checker\")\n",
        "        print(\"5) Library Borrowing Checker\")\n",
        "        print(\"6) Exit\")\n",
        "\n",
        "        choice = input(\"\\nChoose an option (1-6): \").strip()\n",
        "\n",
        "        if choice == \"1\":\n",
        "            attendance_rule(student_name)\n",
        "        elif choice == \"2\":\n",
        "            grading_rule(student_name)\n",
        "        elif choice == \"3\":\n",
        "            login_rule(student_name)\n",
        "        elif choice == \"4\":\n",
        "            bonus_rule(student_name)\n",
        "        elif choice == \"5\":\n",
        "            library_rule(student_name)\n",
        "        elif choice == \"6\":\n",
        "            print(\"Exiting... Results saved to logic_results.csv\")\n",
        "            break\n",
        "        else:\n",
        "            print(\"Invalid choice. Try again. Please select 1-6.\")"
      ]
    },
    {
      "cell_type": "markdown",
      "metadata": {
        "id": "KvpIL0C7pBQV"
      },
      "source": [
        "CSV Initialization"
      ]
    },
    {
      "cell_type": "code",
      "execution_count": null,
      "metadata": {
        "colab": {
          "base_uri": "https://localhost:8080/"
        },
        "id": "QV9YOHu2pCn9",
        "outputId": "079865a3-000c-43a3-d90b-169b94486985"
      },
      "outputs": [
        {
          "metadata": {
            "tags": null
          },
          "name": "stdout",
          "output_type": "stream",
          "text": [
            "=== University Logic Rules System ===\n",
            "\n",
            "================================\n",
            " Main Menu\n",
            "================================\n",
            "1) Attendance Rule Checker\n",
            "2) Grading Rule Checker\n",
            "3) Login Rule Checker\n",
            "4) Bonus Points Checker\n",
            "5) Library Borrowing Checker\n",
            "6) Exit\n",
            "\n",
            "--- Grading Rule Checker ---\n",
            "P = (T) (grade ≥ 75), Q = (T) (student passes)\n",
            "Result: Satisfied ✅\n",
            "\n",
            "================================\n",
            " Main Menu\n",
            "================================\n",
            "1) Attendance Rule Checker\n",
            "2) Grading Rule Checker\n",
            "3) Login Rule Checker\n",
            "4) Bonus Points Checker\n",
            "5) Library Borrowing Checker\n",
            "6) Exit\n",
            "\n",
            "--- Login Rule Checker ---\n"
          ]
        }
      ],
      "source": [
        "if __name__ == \"__main__\":\n",
        "    # Create CSV with headers if not exists\n",
        "    with open(\"logic_results.csv\", \"a\", newline=\"\") as file:\n",
        "        writer = csv.writer(file)\n",
        "        if file.tell() == 0:  # only write header if file is empty\n",
        "            writer.writerow([\"Timestamp\", \"Student Name\", \"Rule\", \"Result\"])\n",
        "\n",
        "    # Run the program\n",
        "    main()"
      ]
    }
  ],
  "metadata": {
    "colab": {
      "provenance": [],
      "gpuType": "T4",
      "include_colab_link": true
    },
    "kernelspec": {
      "display_name": "Python 3",
      "name": "python3"
    },
    "language_info": {
      "name": "python"
    },
    "accelerator": "GPU"
  },
  "nbformat": 4,
  "nbformat_minor": 0
}