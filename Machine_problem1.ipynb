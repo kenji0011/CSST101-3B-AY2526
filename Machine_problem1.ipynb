{
  "nbformat": 4,
  "nbformat_minor": 0,
  "metadata": {
    "colab": {
      "provenance": [],
      "authorship_tag": "ABX9TyNA8zxie617IR/e/oe8RGJA",
      "include_colab_link": true
    },
    "kernelspec": {
      "name": "python3",
      "display_name": "Python 3"
    },
    "language_info": {
      "name": "python"
    }
  },
  "cells": [
    {
      "cell_type": "markdown",
      "metadata": {
        "id": "view-in-github",
        "colab_type": "text"
      },
      "source": [
        "<a href=\"https://colab.research.google.com/github/kenji0011/CSST101-3B-AY2526/blob/main/Machine_problem1.ipynb\" target=\"_parent\"><img src=\"https://colab.research.google.com/assets/colab-badge.svg\" alt=\"Open In Colab\"/></a>"
      ]
    },
    {
      "cell_type": "markdown",
      "source": [
        "Enhanced Mini Expert System: University Logic Rules\n",
        "With CSV Logging for Record-Keeping"
      ],
      "metadata": {
        "id": "gfDMd9QzoeVk"
      }
    },
    {
      "cell_type": "code",
      "source": [
        "# Import needed libraries\n",
        "\n",
        "import csv\n",
        "from datetime import datetime"
      ],
      "metadata": {
        "collapsed": true,
        "id": "edciTWtjgFCe"
      },
      "execution_count": 20,
      "outputs": []
    },
    {
      "cell_type": "markdown",
      "source": [
        "LOGIC FUNCTIONS"
      ],
      "metadata": {
        "id": "DsNE80Ljollj"
      }
    },
    {
      "cell_type": "code",
      "source": [
        "def impl(p, q):\n",
        "    return (not p) or q  # Implication (P -> Q)\n",
        "\n",
        "def tf(b: bool) -> str:\n",
        "    return \"T\" if b else \"F\""
      ],
      "metadata": {
        "id": "JyJsYAbCooxg"
      },
      "execution_count": 21,
      "outputs": []
    },
    {
      "cell_type": "markdown",
      "source": [
        "LOGGER"
      ],
      "metadata": {
        "id": "B5mFDm_Ropax"
      }
    },
    {
      "cell_type": "code",
      "source": [
        "def log_result(student_name, rule_name, result):\n",
        "    with open(\"logic_results.csv\", \"a\", newline=\"\") as file:\n",
        "        writer = csv.writer(file)\n",
        "        writer.writerow([datetime.now().strftime(\"%Y-%m-%d %H:%M:%S\"),\n",
        "                         student_name, rule_name, result])\n"
      ],
      "metadata": {
        "id": "IEvj6J8xor9b"
      },
      "execution_count": 22,
      "outputs": []
    },
    {
      "cell_type": "markdown",
      "source": [
        "Rule 1: Attendance"
      ],
      "metadata": {
        "id": "FjFS9RSFost9"
      }
    },
    {
      "cell_type": "code",
      "source": [
        "def attendance_rule(student_name):\n",
        "    print(\"\\n--- Attendance Rule Checker ---\")\n",
        "    late = input(\"Is the student late? (T/F): \").strip().upper() == \"T\"\n",
        "    excuse = input(\"Did the student bring an excuse letter? (T/F): \").strip().upper() == \"T\"\n",
        "\n",
        "    result = impl(late, excuse)\n",
        "    outcome = \"Satisfied ✅\" if result else \"Violated ❌\"\n",
        "\n",
        "    print(f\"P = ({tf(late)}) (Late), Q = ({tf(excuse)}) (Excuse Letter)\")\n",
        "    print(\"Result:\", outcome)\n",
        "\n",
        "    log_result(student_name, \"Attendance Rule\", outcome)\n"
      ],
      "metadata": {
        "id": "cDAkwPWkovLs"
      },
      "execution_count": 23,
      "outputs": []
    },
    {
      "cell_type": "markdown",
      "source": [
        "Rule 2: Grading"
      ],
      "metadata": {
        "id": "kNQJ-QF8oxK6"
      }
    },
    {
      "cell_type": "code",
      "source": [
        "def grading_rule(student_name):\n",
        "    print(\"\\n--- Grading Rule Checker ---\")\n",
        "    try:\n",
        "        grade = float(input(\"Enter student grade: \"))\n",
        "    except ValueError:\n",
        "        print(\"Invalid grade input.\")\n",
        "        return\n",
        "\n",
        "    P = True\n",
        "    Q = grade >= 75\n",
        "    result = impl(P, Q)\n",
        "    outcome = \"Satisfied ✅\" if result else \"Violated ❌\"\n",
        "\n",
        "    print(f\"P = ({tf(P)}) (grade ≥ 75), Q = ({tf(Q)}) (student passes)\")\n",
        "    print(\"Result:\", outcome)\n",
        "\n",
        "    log_result(student_name, \"Grading Rule\", outcome)\n"
      ],
      "metadata": {
        "id": "wdktICrtozfB"
      },
      "execution_count": 24,
      "outputs": []
    },
    {
      "cell_type": "markdown",
      "source": [
        "Rule 3: Login System"
      ],
      "metadata": {
        "id": "jHmWrN0Mo1e2"
      }
    },
    {
      "cell_type": "code",
      "source": [
        "# ---------- Rule 3: Login System ----------\n",
        "def login_rule(student_name):\n",
        "    print(\"\\n--- Login Rule Checker ---\")\n",
        "    correct_password = \"admin123\"\n",
        "    attempt = input(\"Enter password: \")\n",
        "\n",
        "    P = True\n",
        "    Q = (attempt == correct_password)\n",
        "    result = impl(P, Q)\n",
        "    outcome = \"Access granted ✅\" if result else \"Access denied ❌\"\n",
        "\n",
        "    print(f\"P = ({tf(P)}) (Password Correct), Q = ({tf(Q)}) (Access Granted)\")\n",
        "    print(\"Result:\", outcome)\n",
        "\n",
        "    log_result(student_name, \"Login Rule\", outcome)\n"
      ],
      "metadata": {
        "id": "Jnih6oEio3eD"
      },
      "execution_count": 25,
      "outputs": []
    },
    {
      "cell_type": "markdown",
      "source": [
        "Rule 4: Bonus Points"
      ],
      "metadata": {
        "id": "mZYMRzkZo47l"
      }
    },
    {
      "cell_type": "code",
      "source": [
        "def bonus_rule(student_name):\n",
        "    print(\"\\n--- Bonus Points Eligibility Checker ---\")\n",
        "    regular = input(\"Does the student have regular attendance? (T/F): \").strip().upper() == \"T\"\n",
        "    bonus = input(\"Is the student eligible for bonus points? (T/F): \").strip().upper() == \"T\"\n",
        "\n",
        "    result = impl(regular, bonus)\n",
        "    outcome = \"Satisfied ✅\" if result else \"Violated ❌\"\n",
        "\n",
        "    print(f\"P = ({tf(regular)}) (Regular Attendance), Q = ({tf(bonus)}) (Bonus Eligible)\")\n",
        "    print(\"Result:\", outcome)\n",
        "\n",
        "    log_result(student_name, \"Bonus Rule\", outcome)\n"
      ],
      "metadata": {
        "id": "qkVuJzejo65g"
      },
      "execution_count": 26,
      "outputs": []
    },
    {
      "cell_type": "markdown",
      "source": [
        "Rule 5: Library Borrowing"
      ],
      "metadata": {
        "id": "_OIDyVDRqP1Z"
      }
    },
    {
      "cell_type": "code",
      "source": [
        "def library_rule(student_name):\n",
        "    print(\"\\n--- Library Borrowing Rule Checker ---\")\n",
        "    valid_id = input(\"Does the student have a valid ID? (T/F): \").strip().upper() == \"T\"\n",
        "    borrow = input(\"Is the student allowed to borrow books? (T/F): \").strip().upper() == \"T\"\n",
        "\n",
        "    result = impl(valid_id, borrow)\n",
        "    outcome = \"Allowed ✅\" if result else \"Denied ❌\"\n",
        "\n",
        "    print(f\"P = ({tf(valid_id)}) (Valid ID), Q = ({tf(borrow)}) (Borrow Allowed)\")\n",
        "    print(\"Result:\", outcome)\n",
        "\n",
        "    log_result(student_name, \"Library Rule\", outcome)\n"
      ],
      "metadata": {
        "id": "SqZfqNteqTba"
      },
      "execution_count": 27,
      "outputs": []
    },
    {
      "cell_type": "markdown",
      "source": [
        "Main Menu"
      ],
      "metadata": {
        "id": "PZCKeSkco80q"
      }
    },
    {
      "cell_type": "code",
      "source": [
        "def main():\n",
        "    print(\"=== University Logic Rules System ===\")\n",
        "    student_name = input(\"Enter student name: \").strip()\n",
        "\n",
        "    while True:\n",
        "        print(\"\\n================================\")\n",
        "        print(\" Main Menu\")\n",
        "        print(\"================================\")\n",
        "        print(\"1) Attendance Rule Checker\")\n",
        "        print(\"2) Grading Rule Checker\")\n",
        "        print(\"3) Login Rule Checker\")\n",
        "        print(\"4) Bonus Points Checker\")\n",
        "        print(\"5) Library Borrowing Checker\")\n",
        "        print(\"6) Exit\")\n",
        "\n",
        "        choice = input(\"\\nChoose an option (1-6): \").strip()\n",
        "\n",
        "        if choice == \"1\":\n",
        "            attendance_rule(student_name)\n",
        "        elif choice == \"2\":\n",
        "            grading_rule(student_name)\n",
        "        elif choice == \"3\":\n",
        "            login_rule(student_name)\n",
        "        elif choice == \"4\":\n",
        "            bonus_rule(student_name)\n",
        "        elif choice == \"5\":\n",
        "            library_rule(student_name)\n",
        "        elif choice == \"6\":\n",
        "            print(\"Exiting... Results saved to logic_results.csv\")\n",
        "            break\n",
        "        else:\n",
        "            print(\"Invalid choice. Try again. Please select 1-6.\")"
      ],
      "metadata": {
        "id": "df9bgxXno_CK"
      },
      "execution_count": 28,
      "outputs": []
    },
    {
      "cell_type": "markdown",
      "source": [
        "CSV Initialization"
      ],
      "metadata": {
        "id": "KvpIL0C7pBQV"
      }
    },
    {
      "cell_type": "code",
      "source": [
        "if __name__ == \"__main__\":\n",
        "    # Create CSV with headers if not exists\n",
        "    with open(\"logic_results.csv\", \"a\", newline=\"\") as file:\n",
        "        writer = csv.writer(file)\n",
        "        if file.tell() == 0:  # only write header if file is empty\n",
        "            writer.writerow([\"Timestamp\", \"Student Name\", \"Rule\", \"Result\"])\n",
        "\n",
        "    # Run the program\n",
        "    main()"
      ],
      "metadata": {
        "colab": {
          "base_uri": "https://localhost:8080/"
        },
        "id": "QV9YOHu2pCn9",
        "outputId": "2340f586-5c01-4e25-8dd0-7645dd5604b9"
      },
      "execution_count": null,
      "outputs": [
        {
          "output_type": "stream",
          "name": "stdout",
          "text": [
            "=== University Logic Rules System ===\n",
            "Enter student name: kean\n",
            "\n",
            "================================\n",
            " Main Menu\n",
            "================================\n",
            "1) Attendance Rule Checker\n",
            "2) Grading Rule Checker\n",
            "3) Login Rule Checker\n",
            "4) Bonus Points Checker\n",
            "5) Library Borrowing Checker\n",
            "6) Exit\n",
            "\n",
            "Choose an option (1-6): 5\n",
            "\n",
            "--- Library Borrowing Rule Checker ---\n",
            "Does the student have a valid ID? (T/F): T\n",
            "Is the student allowed to borrow books? (T/F): T\n",
            "P = (T) (Valid ID), Q = (T) (Borrow Allowed)\n",
            "Result: Allowed ✅\n",
            "\n",
            "================================\n",
            " Main Menu\n",
            "================================\n",
            "1) Attendance Rule Checker\n",
            "2) Grading Rule Checker\n",
            "3) Login Rule Checker\n",
            "4) Bonus Points Checker\n",
            "5) Library Borrowing Checker\n",
            "6) Exit\n",
            "\n",
            "Choose an option (1-6): 2\n",
            "\n",
            "--- Grading Rule Checker ---\n",
            "Enter student grade: 60\n",
            "P = (T) (grade ≥ 75), Q = (F) (student passes)\n",
            "Result: Violated ❌\n",
            "\n",
            "================================\n",
            " Main Menu\n",
            "================================\n",
            "1) Attendance Rule Checker\n",
            "2) Grading Rule Checker\n",
            "3) Login Rule Checker\n",
            "4) Bonus Points Checker\n",
            "5) Library Borrowing Checker\n",
            "6) Exit\n",
            "\n",
            "Choose an option (1-6): 2\n",
            "\n",
            "--- Grading Rule Checker ---\n",
            "Enter student grade: 76\n",
            "P = (T) (grade ≥ 75), Q = (T) (student passes)\n",
            "Result: Satisfied ✅\n",
            "\n",
            "================================\n",
            " Main Menu\n",
            "================================\n",
            "1) Attendance Rule Checker\n",
            "2) Grading Rule Checker\n",
            "3) Login Rule Checker\n",
            "4) Bonus Points Checker\n",
            "5) Library Borrowing Checker\n",
            "6) Exit\n",
            "\n",
            "Choose an option (1-6): 4\n",
            "\n",
            "--- Bonus Points Eligibility Checker ---\n",
            "Does the student have regular attendance? (T/F): T\n",
            "Is the student eligible for bonus points? (T/F): T\n",
            "P = (T) (Regular Attendance), Q = (T) (Bonus Eligible)\n",
            "Result: Satisfied ✅\n",
            "\n",
            "================================\n",
            " Main Menu\n",
            "================================\n",
            "1) Attendance Rule Checker\n",
            "2) Grading Rule Checker\n",
            "3) Login Rule Checker\n",
            "4) Bonus Points Checker\n",
            "5) Library Borrowing Checker\n",
            "6) Exit\n",
            "\n",
            "Choose an option (1-6): 4\n",
            "\n",
            "--- Bonus Points Eligibility Checker ---\n",
            "Does the student have regular attendance? (T/F): F\n",
            "Is the student eligible for bonus points? (T/F): F\n",
            "P = (F) (Regular Attendance), Q = (F) (Bonus Eligible)\n",
            "Result: Satisfied ✅\n",
            "\n",
            "================================\n",
            " Main Menu\n",
            "================================\n",
            "1) Attendance Rule Checker\n",
            "2) Grading Rule Checker\n",
            "3) Login Rule Checker\n",
            "4) Bonus Points Checker\n",
            "5) Library Borrowing Checker\n",
            "6) Exit\n"
          ]
        }
      ]
    }
  ]
}